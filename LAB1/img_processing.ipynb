{
 "cells": [
  {
   "cell_type": "markdown",
   "metadata": {},
   "source": [
    "# Лабораторная работа №1\n",
    "## Поэлементные преобразования изображений"
   ]
  },
  {
   "cell_type": "code",
   "execution_count": 1,
   "metadata": {},
   "outputs": [],
   "source": [
    "import cv2\n",
    "import numpy as np"
   ]
  },
  {
   "cell_type": "markdown",
   "metadata": {},
   "source": [
    "1. Считать цветное rgb изображение"
   ]
  },
  {
   "cell_type": "code",
   "execution_count": 2,
   "metadata": {},
   "outputs": [],
   "source": [
    "img = cv2.imread(\"inbows.jpg\")"
   ]
  },
  {
   "cell_type": "markdown",
   "metadata": {},
   "source": [
    "2. Преобразовать изображение в градации серого"
   ]
  },
  {
   "cell_type": "code",
   "execution_count": 3,
   "metadata": {},
   "outputs": [],
   "source": [
    "def decomp(img):\n",
    "    T_img = img.transpose()\n",
    "    R = T_img[0].transpose()\n",
    "    G = T_img[1].transpose()\n",
    "    B = T_img[2].transpose()\n",
    "    return (R, G, B)\n",
    "\n",
    "def grayscale(img):\n",
    "    R, G, B = decomp(img)\n",
    "    gray = np.array(R, copy=True)\n",
    "    for i in range (len(R)):\n",
    "        for j in range(len(R[0])):\n",
    "            gray[i][j] = R[i][j]*0.2989 + G[i][j]*0.587 + B[i][j]*0.114\n",
    "    return gray"
   ]
  },
  {
   "cell_type": "code",
   "execution_count": 4,
   "metadata": {},
   "outputs": [],
   "source": [
    "gray = grayscale(img)"
   ]
  },
  {
   "cell_type": "code",
   "execution_count": 73,
   "metadata": {},
   "outputs": [],
   "source": [
    "cv2.imshow('image',gray)\n",
    "cv2.waitKey(0)\n",
    "cv2.destroyAllWindows()"
   ]
  },
  {
   "cell_type": "markdown",
   "metadata": {},
   "source": [
    "3. Написать функцию реализации препарирования изображения"
   ]
  },
  {
   "cell_type": "code",
   "execution_count": 139,
   "metadata": {},
   "outputs": [],
   "source": [
    "def prepping(img, func):\n",
    "    prep = np.array(img, copy=True)\n",
    "    prep = func(img)\n",
    "    return prep\n",
    "\n",
    "def func3(prep, P=127):\n",
    "    for i in range(len(prep)):\n",
    "        for j in range(len(prep[0])):\n",
    "            if prep[i][j]> P: \n",
    "                prep[i][j] = 255\n",
    "    return prep\n",
    "\n",
    "def func7(prep, P1=50, P2=205):\n",
    "    dp = 255/(P2-P1)\n",
    "    for i in range(len(prep)):\n",
    "        for j in range(len(prep[0])):\n",
    "            if prep[i][j] < P1:\n",
    "                prep[i][j] = 255\n",
    "            if prep[i][j] > P2:\n",
    "                 prep[i][j] = 255\n",
    "            else:\n",
    "                prep[i][j] = int((img[i][j]-P1)*dp)\n",
    "\n",
    "    return prep\n",
    "\n",
    "def func2(prep, P1=100, P2=154):\n",
    "    for i in range(len(prep)):\n",
    "        for j in range(len(prep[0])):\n",
    "            if prep[i][j] > P1:\n",
    "                if prep[i][j] < P2:\n",
    "                    prep[i][j] = 255\n",
    "    return prep"
   ]
  },
  {
   "cell_type": "code",
   "execution_count": 140,
   "metadata": {},
   "outputs": [],
   "source": [
    "prep2 = prepping(gray, func2)"
   ]
  },
  {
   "cell_type": "code",
   "execution_count": 141,
   "metadata": {},
   "outputs": [],
   "source": [
    "cv2.imshow('image2',prep2)\n",
    "cv2.waitKey(0)\n",
    "cv2.destroyAllWindows()"
   ]
  },
  {
   "cell_type": "code",
   "execution_count": 79,
   "metadata": {},
   "outputs": [],
   "source": [
    "cv2.imshow('image2',prep3)\n",
    "cv2.waitKey(0)\n",
    "cv2.destroyAllWindows()"
   ]
  },
  {
   "cell_type": "code",
   "execution_count": 100,
   "metadata": {},
   "outputs": [],
   "source": [
    "cv2.imshow('image2',prep7)\n",
    "cv2.waitKey(0)\n",
    "cv2.destroyAllWindows()"
   ]
  },
  {
   "cell_type": "markdown",
   "metadata": {},
   "source": [
    "4. По гистограмме изображения определить значение порога яркостей, обеспечивающего оптимальное разделение объекта и фона. Осуществить пороговую обработку входного изображения с найденным пороговым значением"
   ]
  },
  {
   "cell_type": "code",
   "execution_count": 127,
   "metadata": {},
   "outputs": [],
   "source": [
    "def make_hist(img):\n",
    "    hist = []\n",
    "    for i in range(256):\n",
    "        hist.append(0)\n",
    "    for i in range (len(img)):\n",
    "        for j in range(len(img[0])):\n",
    "            hist[img[i][j]] +=1\n",
    "    return hist\n",
    "\n",
    "def optimal(hist):\n",
    "    S = sum(hist)\n",
    "    y = 0\n",
    "    for i in range(255):\n",
    "        y+= hist[i]*i\n",
    "    max_sigma = 0\n",
    "    max_h = 0\n",
    "    for h in range(1, 255):\n",
    "        x = 0\n",
    "        for i in range (h):\n",
    "            x+=hist[i]*i\n",
    "        m0 = x/sum(hist[:h]) if sum(hist[:h]) > 0 else 0.\n",
    "        w0 = sum(hist[:h])/S\n",
    "        m1 = y/sum(hist[h:]) if sum(hist[h:]) > 0 else 0.\n",
    "        y-=hist[h]*h    \n",
    "        w1 = sum(hist[h:])/S\n",
    "        sigma = w0 * w1 * ((m0 - m1) ** 2)\n",
    "        if sigma > max_sigma:\n",
    "            max_sigma = sigma\n",
    "            max_h = h\n",
    "    return max_h\n",
    "        "
   ]
  },
  {
   "cell_type": "code",
   "execution_count": 131,
   "metadata": {},
   "outputs": [],
   "source": [
    "opt = optimal(histogram)"
   ]
  },
  {
   "cell_type": "code",
   "execution_count": 129,
   "metadata": {},
   "outputs": [],
   "source": [
    "def binary(img, t):\n",
    "    copy = np.array(img, copy=True)\n",
    "    for i in range(len(copy)):\n",
    "        for j in range(len(copy[0])):\n",
    "            if copy[i][j] <= t:\n",
    "                copy[i][j] = 0\n",
    "            else:\n",
    "                copy[i][j] = 255\n",
    "    return copy"
   ]
  },
  {
   "cell_type": "code",
   "execution_count": 132,
   "metadata": {},
   "outputs": [],
   "source": [
    "bina = binary(gray, opt)"
   ]
  },
  {
   "cell_type": "code",
   "execution_count": 133,
   "metadata": {},
   "outputs": [],
   "source": [
    "cv2.imshow('image2',bina)\n",
    "cv2.waitKey(0)\n",
    "cv2.destroyAllWindows()"
   ]
  },
  {
   "cell_type": "markdown",
   "metadata": {},
   "source": [
    "5. Сделать пороговую обработку методом Otsu (Функция OpenCV)"
   ]
  },
  {
   "cell_type": "markdown",
   "metadata": {},
   "source": [
    "6. Определить динамический диапазон входного изображения. Осуществить линейное контрастирование входного изображения в заданный динамический диапазон яркостей"
   ]
  },
  {
   "cell_type": "code",
   "execution_count": null,
   "metadata": {},
   "outputs": [],
   "source": []
  },
  {
   "cell_type": "markdown",
   "metadata": {},
   "source": [
    "7. Сделать эквализацию гистограммы изображения"
   ]
  },
  {
   "cell_type": "code",
   "execution_count": null,
   "metadata": {},
   "outputs": [],
   "source": []
  },
  {
   "cell_type": "markdown",
   "metadata": {},
   "source": [
    "8. Сделать эквализацию методом CLAHE (Функция OpenCV)"
   ]
  },
  {
   "cell_type": "code",
   "execution_count": null,
   "metadata": {},
   "outputs": [],
   "source": []
  },
  {
   "cell_type": "markdown",
   "metadata": {},
   "source": [
    "9. Осуществить препарирование изображения с заданной препарирующей функцией"
   ]
  },
  {
   "cell_type": "code",
   "execution_count": null,
   "metadata": {},
   "outputs": [],
   "source": []
  },
  {
   "cell_type": "markdown",
   "metadata": {},
   "source": [
    "*Для работы с изображением использовать OpenCV. Все необходимые для задания функции реализовавать самим, а не использовать готовые в OpenCV, если не указано обратного. После преобразований изображений выводить их гистограммы.*"
   ]
  }
 ],
 "metadata": {
  "interpreter": {
   "hash": "5d00fe9463615c7d2f04bd21cf4d3dd7cfe8c073f4fa7f37537a4dba5ea0ea78"
  },
  "kernelspec": {
   "display_name": "Python 3.9.4 64-bit",
   "language": "python",
   "name": "python3"
  },
  "language_info": {
   "codemirror_mode": {
    "name": "ipython",
    "version": 3
   },
   "file_extension": ".py",
   "mimetype": "text/x-python",
   "name": "python",
   "nbconvert_exporter": "python",
   "pygments_lexer": "ipython3",
   "version": "3.9.4"
  },
  "orig_nbformat": 4
 },
 "nbformat": 4,
 "nbformat_minor": 2
}
